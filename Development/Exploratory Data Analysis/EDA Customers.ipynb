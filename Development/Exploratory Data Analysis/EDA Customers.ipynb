{
 "cells": [
  {
   "cell_type": "code",
   "execution_count": 1,
   "id": "9309ea9c",
   "metadata": {},
   "outputs": [],
   "source": [
    "import os\n",
    "import re\n",
    "import pandas as pd\n",
    "pd.set_option('display.max_rows', 100)\n",
    "import numpy as np\n",
    "import matplotlib.pyplot as plt\n",
    "from utils import *\n",
    "\n",
    "import warnings\n",
    "warnings.filterwarnings(\"ignore\", category=RuntimeWarning) "
   ]
  },
  {
   "cell_type": "code",
   "execution_count": 2,
   "id": "7df78b18",
   "metadata": {},
   "outputs": [],
   "source": [
    "# File loading\n",
    "df = pd.read_excel(r'..\\..\\Data\\Customers.xlsx', 'Sheet1')\n",
    "df.name = 'Customers'"
   ]
  },
  {
   "cell_type": "code",
   "execution_count": 3,
   "id": "ac5933ed",
   "metadata": {
    "scrolled": true
   },
   "outputs": [
    {
     "data": {
      "text/html": [
       "<div>\n",
       "<style scoped>\n",
       "    .dataframe tbody tr th:only-of-type {\n",
       "        vertical-align: middle;\n",
       "    }\n",
       "\n",
       "    .dataframe tbody tr th {\n",
       "        vertical-align: top;\n",
       "    }\n",
       "\n",
       "    .dataframe thead th {\n",
       "        text-align: right;\n",
       "    }\n",
       "</style>\n",
       "<table border=\"1\" class=\"dataframe\">\n",
       "  <thead>\n",
       "    <tr style=\"text-align: right;\">\n",
       "      <th></th>\n",
       "      <th>Cust Sold To Nbr</th>\n",
       "      <th>Cust Sold To Name</th>\n",
       "      <th>Cust Sold To Country</th>\n",
       "      <th>C-07</th>\n",
       "      <th>C-06</th>\n",
       "      <th>C-05</th>\n",
       "      <th>C-04</th>\n",
       "      <th>C-03</th>\n",
       "      <th>C-02</th>\n",
       "      <th>C-01</th>\n",
       "    </tr>\n",
       "  </thead>\n",
       "  <tbody>\n",
       "    <tr>\n",
       "      <th>0</th>\n",
       "      <td>28502952</td>\n",
       "      <td>CH de Libourne Robert Boulin</td>\n",
       "      <td>France</td>\n",
       "      <td>CH de Libourne - Robert Boulin</td>\n",
       "      <td>UniHA - Stérilisation</td>\n",
       "      <td>Groupement de Gironde</td>\n",
       "      <td>Regional Buying Group</td>\n",
       "      <td>Public Hospital</td>\n",
       "      <td>Hospital</td>\n",
       "      <td>Healthcare Europe</td>\n",
       "    </tr>\n",
       "    <tr>\n",
       "      <th>1</th>\n",
       "      <td>28502953</td>\n",
       "      <td>Cl Saint-Roch-Montpellier</td>\n",
       "      <td>France</td>\n",
       "      <td>OC Santé</td>\n",
       "      <td>Helpevia</td>\n",
       "      <td>Helpevia</td>\n",
       "      <td>National Buying Group</td>\n",
       "      <td>Private Hospital</td>\n",
       "      <td>Hospital</td>\n",
       "      <td>Healthcare Europe</td>\n",
       "    </tr>\n",
       "    <tr>\n",
       "      <th>2</th>\n",
       "      <td>28502955</td>\n",
       "      <td>Polyclinique de Gentilly</td>\n",
       "      <td>France</td>\n",
       "      <td>ELSAN</td>\n",
       "      <td>ELSAN NR</td>\n",
       "      <td>ELSAN</td>\n",
       "      <td>National Buying Group</td>\n",
       "      <td>Private Hospital</td>\n",
       "      <td>Hospital</td>\n",
       "      <td>Healthcare Europe</td>\n",
       "    </tr>\n",
       "    <tr>\n",
       "      <th>3</th>\n",
       "      <td>28502956</td>\n",
       "      <td>CH Alphonse Guérin - Ploërmel</td>\n",
       "      <td>France</td>\n",
       "      <td>Groupe Hospitalier Bretagne Sud</td>\n",
       "      <td>Groupe Hospitalier Bretagne Sud</td>\n",
       "      <td>Groupe Hospitalier Bretagne Sud</td>\n",
       "      <td>Regional Buying Group</td>\n",
       "      <td>Public Hospital</td>\n",
       "      <td>Hospital</td>\n",
       "      <td>Healthcare Europe</td>\n",
       "    </tr>\n",
       "    <tr>\n",
       "      <th>4</th>\n",
       "      <td>28502958</td>\n",
       "      <td>Clinique des Dômes</td>\n",
       "      <td>France</td>\n",
       "      <td>Medi-Ha</td>\n",
       "      <td>ELSAN NR</td>\n",
       "      <td>ELSAN</td>\n",
       "      <td>National Buying Group</td>\n",
       "      <td>Private Hospital</td>\n",
       "      <td>Hospital</td>\n",
       "      <td>Healthcare Europe</td>\n",
       "    </tr>\n",
       "  </tbody>\n",
       "</table>\n",
       "</div>"
      ],
      "text/plain": [
       "   Cust Sold To Nbr              Cust Sold To Name Cust Sold To Country  \\\n",
       "0          28502952   CH de Libourne Robert Boulin               France   \n",
       "1          28502953      Cl Saint-Roch-Montpellier               France   \n",
       "2          28502955       Polyclinique de Gentilly               France   \n",
       "3          28502956  CH Alphonse Guérin - Ploërmel               France   \n",
       "4          28502958             Clinique des Dômes               France   \n",
       "\n",
       "                              C-07                             C-06  \\\n",
       "0   CH de Libourne - Robert Boulin            UniHA - Stérilisation   \n",
       "1                         OC Santé                         Helpevia   \n",
       "2                            ELSAN                         ELSAN NR   \n",
       "3  Groupe Hospitalier Bretagne Sud  Groupe Hospitalier Bretagne Sud   \n",
       "4                          Medi-Ha                         ELSAN NR   \n",
       "\n",
       "                              C-05                   C-04              C-03  \\\n",
       "0            Groupement de Gironde  Regional Buying Group   Public Hospital   \n",
       "1                         Helpevia  National Buying Group  Private Hospital   \n",
       "2                            ELSAN  National Buying Group  Private Hospital   \n",
       "3  Groupe Hospitalier Bretagne Sud  Regional Buying Group   Public Hospital   \n",
       "4                            ELSAN  National Buying Group  Private Hospital   \n",
       "\n",
       "       C-02               C-01  \n",
       "0  Hospital  Healthcare Europe  \n",
       "1  Hospital  Healthcare Europe  \n",
       "2  Hospital  Healthcare Europe  \n",
       "3  Hospital  Healthcare Europe  \n",
       "4  Hospital  Healthcare Europe  "
      ]
     },
     "execution_count": 3,
     "metadata": {},
     "output_type": "execute_result"
    }
   ],
   "source": [
    "# Dataframe head\n",
    "df.head()"
   ]
  },
  {
   "cell_type": "code",
   "execution_count": 4,
   "id": "47633213",
   "metadata": {},
   "outputs": [
    {
     "name": "stdout",
     "output_type": "stream",
     "text": [
      "This dataframe has 10 columns and 4830 rows.\n"
     ]
    }
   ],
   "source": [
    "# Dataframe shape\n",
    "df_shape = df.shape\n",
    "print(\"This dataframe has %d columns and %d rows.\" % (df_shape[1], df_shape[0]))"
   ]
  },
  {
   "cell_type": "code",
   "execution_count": 4,
   "id": "34fa784b",
   "metadata": {
    "scrolled": true
   },
   "outputs": [
    {
     "name": "stdout",
     "output_type": "stream",
     "text": [
      "<class 'pandas.core.frame.DataFrame'>\n",
      "RangeIndex: 4830 entries, 0 to 4829\n",
      "Data columns (total 10 columns):\n",
      " #   Column                Non-Null Count  Dtype \n",
      "---  ------                --------------  ----- \n",
      " 0   Cust Sold To Nbr      4830 non-null   int64 \n",
      " 1   Cust Sold To Name     4830 non-null   object\n",
      " 2   Cust Sold To Country  4830 non-null   object\n",
      " 3   C-07                  4830 non-null   object\n",
      " 4   C-06                  4830 non-null   object\n",
      " 5   C-05                  4830 non-null   object\n",
      " 6   C-04                  4830 non-null   object\n",
      " 7   C-03                  4830 non-null   object\n",
      " 8   C-02                  4830 non-null   object\n",
      " 9   C-01                  4830 non-null   object\n",
      "dtypes: int64(1), object(9)\n",
      "memory usage: 377.5+ KB\n"
     ]
    }
   ],
   "source": [
    "# Dataframe info\n",
    "df.info()"
   ]
  },
  {
   "cell_type": "code",
   "execution_count": 5,
   "id": "77974df2",
   "metadata": {
    "scrolled": false
   },
   "outputs": [
    {
     "data": {
      "text/html": [
       "<div>\n",
       "<style scoped>\n",
       "    .dataframe tbody tr th:only-of-type {\n",
       "        vertical-align: middle;\n",
       "    }\n",
       "\n",
       "    .dataframe tbody tr th {\n",
       "        vertical-align: top;\n",
       "    }\n",
       "\n",
       "    .dataframe thead th {\n",
       "        text-align: right;\n",
       "    }\n",
       "</style>\n",
       "<table border=\"1\" class=\"dataframe\">\n",
       "  <thead>\n",
       "    <tr style=\"text-align: right;\">\n",
       "      <th></th>\n",
       "      <th>Modalities</th>\n",
       "    </tr>\n",
       "  </thead>\n",
       "  <tbody>\n",
       "    <tr>\n",
       "      <th>C-01</th>\n",
       "      <td>2</td>\n",
       "    </tr>\n",
       "    <tr>\n",
       "      <th>C-02</th>\n",
       "      <td>7</td>\n",
       "    </tr>\n",
       "    <tr>\n",
       "      <th>C-03</th>\n",
       "      <td>10</td>\n",
       "    </tr>\n",
       "    <tr>\n",
       "      <th>C-04</th>\n",
       "      <td>22</td>\n",
       "    </tr>\n",
       "    <tr>\n",
       "      <th>Cust Sold To Country</th>\n",
       "      <td>66</td>\n",
       "    </tr>\n",
       "    <tr>\n",
       "      <th>C-05</th>\n",
       "      <td>1176</td>\n",
       "    </tr>\n",
       "    <tr>\n",
       "      <th>C-06</th>\n",
       "      <td>1423</td>\n",
       "    </tr>\n",
       "    <tr>\n",
       "      <th>C-07</th>\n",
       "      <td>2645</td>\n",
       "    </tr>\n",
       "    <tr>\n",
       "      <th>Cust Sold To Name</th>\n",
       "      <td>4358</td>\n",
       "    </tr>\n",
       "    <tr>\n",
       "      <th>Cust Sold To Nbr</th>\n",
       "      <td>4830</td>\n",
       "    </tr>\n",
       "  </tbody>\n",
       "</table>\n",
       "</div>"
      ],
      "text/plain": [
       "                      Modalities\n",
       "C-01                           2\n",
       "C-02                           7\n",
       "C-03                          10\n",
       "C-04                          22\n",
       "Cust Sold To Country          66\n",
       "C-05                        1176\n",
       "C-06                        1423\n",
       "C-07                        2645\n",
       "Cust Sold To Name           4358\n",
       "Cust Sold To Nbr            4830"
      ]
     },
     "execution_count": 5,
     "metadata": {},
     "output_type": "execute_result"
    }
   ],
   "source": [
    "# Categorical features modalities\n",
    "df['Cust Sold To Nbr']=df['Cust Sold To Nbr'].astype(object)\n",
    "modalities_table(df)"
   ]
  },
  {
   "cell_type": "markdown",
   "id": "9b713f57",
   "metadata": {},
   "source": [
    "There is 4358 customer dispatched in 66 country."
   ]
  },
  {
   "cell_type": "code",
   "execution_count": 7,
   "id": "4da3c7b1",
   "metadata": {
    "scrolled": true
   },
   "outputs": [
    {
     "data": {
      "image/png": "[encoded data removed]",
      "text/plain": [
       "<Figure size 432x288 with 1 Axes>"
      ]
     },
     "metadata": {
      "needs_background": "light"
     },
     "output_type": "display_data"
    },
    {
     "data": {
      "image/png": "[encoded data removed]",
      "text/plain": [
       "<Figure size 432x288 with 1 Axes>"
      ]
     },
     "metadata": {
      "needs_background": "light"
     },
     "output_type": "display_data"
    },
    {
     "data": {
      "image/png": "[encoded data removed]",
      "text/plain": [
       "<Figure size 432x288 with 1 Axes>"
      ]
     },
     "metadata": {
      "needs_background": "light"
     },
     "output_type": "display_data"
    },
    {
     "data": {
      "image/png": "[encoded data removed]",
      "text/plain": [
       "<Figure size 432x288 with 1 Axes>"
      ]
     },
     "metadata": {
      "needs_background": "light"
     },
     "output_type": "display_data"
    },
    {
     "data": {
      "image/png": "[encoded data removed]",
      "text/plain": [
       "<Figure size 432x288 with 1 Axes>"
      ]
     },
     "metadata": {
      "needs_background": "light"
     },
     "output_type": "display_data"
    },
    {
     "data": {
      "image/png": "[encoded data removed]",
      "text/plain": [
       "<Figure size 432x288 with 1 Axes>"
      ]
     },
     "metadata": {
      "needs_background": "light"
     },
     "output_type": "display_data"
    },
    {
     "data": {
      "image/png": "[encoded data removed]",
      "text/plain": [
       "<Figure size 432x288 with 1 Axes>"
      ]
     },
     "metadata": {
      "needs_background": "light"
     },
     "output_type": "display_data"
    },
    {
     "data": {
      "image/png": "[encoded data removed]",
      "text/plain": [
       "<Figure size 432x288 with 1 Axes>"
      ]
     },
     "metadata": {
      "needs_background": "light"
     },
     "output_type": "display_data"
    },
    {
     "data": {
      "image/png": "[encoded data removed]",
      "text/plain": [
       "<Figure size 432x288 with 1 Axes>"
      ]
     },
     "metadata": {
      "needs_background": "light"
     },
     "output_type": "display_data"
    }
   ],
   "source": [
    "# Distribution of categorical columns        \n",
    "plot_cat_dist_h(df)"
   ]
  },
  {
   "cell_type": "code",
   "execution_count": 8,
   "id": "ee655318",
   "metadata": {},
   "outputs": [
    {
     "data": {
      "text/html": [
       "<div>\n",
       "<style scoped>\n",
       "    .dataframe tbody tr th:only-of-type {\n",
       "        vertical-align: middle;\n",
       "    }\n",
       "\n",
       "    .dataframe tbody tr th {\n",
       "        vertical-align: top;\n",
       "    }\n",
       "\n",
       "    .dataframe thead th {\n",
       "        text-align: right;\n",
       "    }\n",
       "</style>\n",
       "<table border=\"1\" class=\"dataframe\">\n",
       "  <thead>\n",
       "    <tr style=\"text-align: right;\">\n",
       "      <th></th>\n",
       "      <th>Cust Sold To Nbr</th>\n",
       "      <th>Cust Sold To Name</th>\n",
       "      <th>Cust Sold To Country</th>\n",
       "      <th>C-07</th>\n",
       "      <th>C-06</th>\n",
       "      <th>C-05</th>\n",
       "      <th>C-04</th>\n",
       "      <th>C-03</th>\n",
       "      <th>C-02</th>\n",
       "      <th>C-01</th>\n",
       "    </tr>\n",
       "  </thead>\n",
       "  <tbody>\n",
       "    <tr>\n",
       "      <th>199</th>\n",
       "      <td>28503339</td>\n",
       "      <td>AHO - Clinique Saint-Augustin</td>\n",
       "      <td>France</td>\n",
       "      <td>-</td>\n",
       "      <td>-</td>\n",
       "      <td>-</td>\n",
       "      <td>-</td>\n",
       "      <td>-</td>\n",
       "      <td>-</td>\n",
       "      <td>-</td>\n",
       "    </tr>\n",
       "    <tr>\n",
       "      <th>200</th>\n",
       "      <td>28503375</td>\n",
       "      <td>Hopitaux Civils - CAMPS</td>\n",
       "      <td>France</td>\n",
       "      <td>-</td>\n",
       "      <td>-</td>\n",
       "      <td>-</td>\n",
       "      <td>-</td>\n",
       "      <td>-</td>\n",
       "      <td>-</td>\n",
       "      <td>-</td>\n",
       "    </tr>\n",
       "    <tr>\n",
       "      <th>250</th>\n",
       "      <td>28511598</td>\n",
       "      <td>Southern Syringe Services Ltd</td>\n",
       "      <td>United Kingdom</td>\n",
       "      <td>-</td>\n",
       "      <td>-</td>\n",
       "      <td>-</td>\n",
       "      <td>-</td>\n",
       "      <td>-</td>\n",
       "      <td>-</td>\n",
       "      <td>-</td>\n",
       "    </tr>\n",
       "    <tr>\n",
       "      <th>251</th>\n",
       "      <td>28511600</td>\n",
       "      <td>Bunzl New Front. HS Interlink</td>\n",
       "      <td>United Kingdom</td>\n",
       "      <td>-</td>\n",
       "      <td>-</td>\n",
       "      <td>-</td>\n",
       "      <td>-</td>\n",
       "      <td>-</td>\n",
       "      <td>-</td>\n",
       "      <td>-</td>\n",
       "    </tr>\n",
       "    <tr>\n",
       "      <th>276</th>\n",
       "      <td>28515838</td>\n",
       "      <td>Halyard Health</td>\n",
       "      <td>United Kingdom</td>\n",
       "      <td>-</td>\n",
       "      <td>-</td>\n",
       "      <td>-</td>\n",
       "      <td>-</td>\n",
       "      <td>-</td>\n",
       "      <td>-</td>\n",
       "      <td>-</td>\n",
       "    </tr>\n",
       "    <tr>\n",
       "      <th>...</th>\n",
       "      <td>...</td>\n",
       "      <td>...</td>\n",
       "      <td>...</td>\n",
       "      <td>...</td>\n",
       "      <td>...</td>\n",
       "      <td>...</td>\n",
       "      <td>...</td>\n",
       "      <td>...</td>\n",
       "      <td>...</td>\n",
       "      <td>...</td>\n",
       "    </tr>\n",
       "    <tr>\n",
       "      <th>3329</th>\n",
       "      <td>28802763</td>\n",
       "      <td>Beaufort West Hospital</td>\n",
       "      <td>South Africa</td>\n",
       "      <td>-</td>\n",
       "      <td>-</td>\n",
       "      <td>-</td>\n",
       "      <td>-</td>\n",
       "      <td>-</td>\n",
       "      <td>-</td>\n",
       "      <td>-</td>\n",
       "    </tr>\n",
       "    <tr>\n",
       "      <th>3333</th>\n",
       "      <td>28802774</td>\n",
       "      <td>TL Setati</td>\n",
       "      <td>South Africa</td>\n",
       "      <td>-</td>\n",
       "      <td>-</td>\n",
       "      <td>-</td>\n",
       "      <td>-</td>\n",
       "      <td>-</td>\n",
       "      <td>-</td>\n",
       "      <td>-</td>\n",
       "    </tr>\n",
       "    <tr>\n",
       "      <th>3339</th>\n",
       "      <td>28802790</td>\n",
       "      <td>WC Health Mosselbaai Hospital</td>\n",
       "      <td>South Africa</td>\n",
       "      <td>-</td>\n",
       "      <td>-</td>\n",
       "      <td>-</td>\n",
       "      <td>-</td>\n",
       "      <td>-</td>\n",
       "      <td>-</td>\n",
       "      <td>-</td>\n",
       "    </tr>\n",
       "    <tr>\n",
       "      <th>3585</th>\n",
       "      <td>28803791</td>\n",
       "      <td>Clonallon Laboratories Limited</td>\n",
       "      <td>United Kingdom</td>\n",
       "      <td>-</td>\n",
       "      <td>-</td>\n",
       "      <td>Clonallon Laboratories Limited</td>\n",
       "      <td>CPT Company</td>\n",
       "      <td>CPT Company</td>\n",
       "      <td>CPT Company</td>\n",
       "      <td>Healthcare Europe</td>\n",
       "    </tr>\n",
       "    <tr>\n",
       "      <th>3640</th>\n",
       "      <td>28803964</td>\n",
       "      <td>Dyna Medical</td>\n",
       "      <td>Belgium</td>\n",
       "      <td>-</td>\n",
       "      <td>Dyna Medical</td>\n",
       "      <td>Dyna Medical</td>\n",
       "      <td>Other Direct</td>\n",
       "      <td>Other Direct</td>\n",
       "      <td>Other Direct</td>\n",
       "      <td>Healthcare Europe</td>\n",
       "    </tr>\n",
       "  </tbody>\n",
       "</table>\n",
       "<p>169 rows × 10 columns</p>\n",
       "</div>"
      ],
      "text/plain": [
       "      Cust Sold To Nbr               Cust Sold To Name Cust Sold To Country  \\\n",
       "199           28503339   AHO - Clinique Saint-Augustin               France   \n",
       "200           28503375         Hopitaux Civils - CAMPS               France   \n",
       "250           28511598   Southern Syringe Services Ltd       United Kingdom   \n",
       "251           28511600   Bunzl New Front. HS Interlink       United Kingdom   \n",
       "276           28515838                  Halyard Health       United Kingdom   \n",
       "...                ...                             ...                  ...   \n",
       "3329          28802763          Beaufort West Hospital         South Africa   \n",
       "3333          28802774                       TL Setati         South Africa   \n",
       "3339          28802790   WC Health Mosselbaai Hospital         South Africa   \n",
       "3585          28803791  Clonallon Laboratories Limited       United Kingdom   \n",
       "3640          28803964                    Dyna Medical              Belgium   \n",
       "\n",
       "     C-07          C-06                            C-05          C-04  \\\n",
       "199     -             -                               -             -   \n",
       "200     -             -                               -             -   \n",
       "250     -             -                               -             -   \n",
       "251     -             -                               -             -   \n",
       "276     -             -                               -             -   \n",
       "...   ...           ...                             ...           ...   \n",
       "3329    -             -                               -             -   \n",
       "3333    -             -                               -             -   \n",
       "3339    -             -                               -             -   \n",
       "3585    -             -  Clonallon Laboratories Limited   CPT Company   \n",
       "3640    -  Dyna Medical                    Dyna Medical  Other Direct   \n",
       "\n",
       "              C-03          C-02               C-01  \n",
       "199              -             -                  -  \n",
       "200              -             -                  -  \n",
       "250              -             -                  -  \n",
       "251              -             -                  -  \n",
       "276              -             -                  -  \n",
       "...            ...           ...                ...  \n",
       "3329             -             -                  -  \n",
       "3333             -             -                  -  \n",
       "3339             -             -                  -  \n",
       "3585   CPT Company   CPT Company  Healthcare Europe  \n",
       "3640  Other Direct  Other Direct  Healthcare Europe  \n",
       "\n",
       "[169 rows x 10 columns]"
      ]
     },
     "execution_count": 8,
     "metadata": {},
     "output_type": "execute_result"
    }
   ],
   "source": [
    "# Missing values are represented by \"-\"\n",
    "df[df.eq('-').any(1)]"
   ]
  },
  {
   "cell_type": "code",
   "execution_count": 9,
   "id": "aa33be13",
   "metadata": {},
   "outputs": [],
   "source": [
    "# Replacing missing values with Unknown\n",
    "df.replace({'-': 'Unknown'},inplace=True)"
   ]
  },
  {
   "cell_type": "code",
   "execution_count": 10,
   "id": "8501caf9",
   "metadata": {},
   "outputs": [
    {
     "data": {
      "text/html": [
       "<div>\n",
       "<style scoped>\n",
       "    .dataframe tbody tr th:only-of-type {\n",
       "        vertical-align: middle;\n",
       "    }\n",
       "\n",
       "    .dataframe tbody tr th {\n",
       "        vertical-align: top;\n",
       "    }\n",
       "\n",
       "    .dataframe thead th {\n",
       "        text-align: right;\n",
       "    }\n",
       "</style>\n",
       "<table border=\"1\" class=\"dataframe\">\n",
       "  <thead>\n",
       "    <tr style=\"text-align: right;\">\n",
       "      <th></th>\n",
       "      <th>Cust Sold To Nbr</th>\n",
       "      <th>Cust Sold To Name</th>\n",
       "      <th>Cust Sold To Country</th>\n",
       "      <th>C-07</th>\n",
       "      <th>C-06</th>\n",
       "      <th>C-05</th>\n",
       "      <th>C-04</th>\n",
       "      <th>C-03</th>\n",
       "      <th>C-02</th>\n",
       "      <th>C-01</th>\n",
       "    </tr>\n",
       "  </thead>\n",
       "  <tbody>\n",
       "  </tbody>\n",
       "</table>\n",
       "</div>"
      ],
      "text/plain": [
       "Empty DataFrame\n",
       "Columns: [Cust Sold To Nbr, Cust Sold To Name, Cust Sold To Country, C-07, C-06, C-05, C-04, C-03, C-02, C-01]\n",
       "Index: []"
      ]
     },
     "execution_count": 10,
     "metadata": {},
     "output_type": "execute_result"
    }
   ],
   "source": [
    "df[(df['C-01'].isnull()) & ((df['C-02'].notnull())|(df['C-03'].notnull())|\n",
    "                            (df['C-04'].notnull())|(df['C-05'].notnull())|\n",
    "                            (df['C-06'].notnull())|(df['C-07'].notnull()))]"
   ]
  },
  {
   "cell_type": "code",
   "execution_count": 11,
   "id": "77c1a84b",
   "metadata": {},
   "outputs": [
    {
     "name": "stdout",
     "output_type": "stream",
     "text": [
      "Your selected dataframe has 10 columns.\n",
      "There are 0 columns that have missing values.\n"
     ]
    },
    {
     "data": {
      "text/html": [
       "<div>\n",
       "<style scoped>\n",
       "    .dataframe tbody tr th:only-of-type {\n",
       "        vertical-align: middle;\n",
       "    }\n",
       "\n",
       "    .dataframe tbody tr th {\n",
       "        vertical-align: top;\n",
       "    }\n",
       "\n",
       "    .dataframe thead th {\n",
       "        text-align: right;\n",
       "    }\n",
       "</style>\n",
       "<table border=\"1\" class=\"dataframe\">\n",
       "  <thead>\n",
       "    <tr style=\"text-align: right;\">\n",
       "      <th></th>\n",
       "      <th>Missing Values</th>\n",
       "      <th>% of Total Values</th>\n",
       "    </tr>\n",
       "  </thead>\n",
       "  <tbody>\n",
       "  </tbody>\n",
       "</table>\n",
       "</div>"
      ],
      "text/plain": [
       "Empty DataFrame\n",
       "Columns: [Missing Values, % of Total Values]\n",
       "Index: []"
      ]
     },
     "execution_count": 11,
     "metadata": {},
     "output_type": "execute_result"
    }
   ],
   "source": [
    "# Missing value summary\n",
    "missing_values_table(df)"
   ]
  },
  {
   "cell_type": "code",
   "execution_count": 12,
   "id": "7e85adb6",
   "metadata": {},
   "outputs": [],
   "source": [
    "# Missing values export\n",
    "save_missing_values_table(df, df.name)"
   ]
  },
  {
   "cell_type": "code",
   "execution_count": 6,
   "id": "95ffb8fe",
   "metadata": {},
   "outputs": [
    {
     "data": {
      "text/html": [
       "<div>\n",
       "<style scoped>\n",
       "    .dataframe tbody tr th:only-of-type {\n",
       "        vertical-align: middle;\n",
       "    }\n",
       "\n",
       "    .dataframe tbody tr th {\n",
       "        vertical-align: top;\n",
       "    }\n",
       "\n",
       "    .dataframe thead th {\n",
       "        text-align: right;\n",
       "    }\n",
       "</style>\n",
       "<table border=\"1\" class=\"dataframe\">\n",
       "  <thead>\n",
       "    <tr style=\"text-align: right;\">\n",
       "      <th></th>\n",
       "      <th>Modalities</th>\n",
       "    </tr>\n",
       "  </thead>\n",
       "  <tbody>\n",
       "    <tr>\n",
       "      <th>C-01</th>\n",
       "      <td>2</td>\n",
       "    </tr>\n",
       "    <tr>\n",
       "      <th>C-02</th>\n",
       "      <td>7</td>\n",
       "    </tr>\n",
       "    <tr>\n",
       "      <th>C-03</th>\n",
       "      <td>10</td>\n",
       "    </tr>\n",
       "    <tr>\n",
       "      <th>C-04</th>\n",
       "      <td>22</td>\n",
       "    </tr>\n",
       "    <tr>\n",
       "      <th>Cust Sold To Country</th>\n",
       "      <td>66</td>\n",
       "    </tr>\n",
       "    <tr>\n",
       "      <th>C-05</th>\n",
       "      <td>1176</td>\n",
       "    </tr>\n",
       "    <tr>\n",
       "      <th>C-06</th>\n",
       "      <td>1423</td>\n",
       "    </tr>\n",
       "    <tr>\n",
       "      <th>C-07</th>\n",
       "      <td>2645</td>\n",
       "    </tr>\n",
       "    <tr>\n",
       "      <th>Cust Sold To Name</th>\n",
       "      <td>4358</td>\n",
       "    </tr>\n",
       "    <tr>\n",
       "      <th>Cust Sold To Nbr</th>\n",
       "      <td>4830</td>\n",
       "    </tr>\n",
       "  </tbody>\n",
       "</table>\n",
       "</div>"
      ],
      "text/plain": [
       "                      Modalities\n",
       "C-01                           2\n",
       "C-02                           7\n",
       "C-03                          10\n",
       "C-04                          22\n",
       "Cust Sold To Country          66\n",
       "C-05                        1176\n",
       "C-06                        1423\n",
       "C-07                        2645\n",
       "Cust Sold To Name           4358\n",
       "Cust Sold To Nbr            4830"
      ]
     },
     "execution_count": 6,
     "metadata": {},
     "output_type": "execute_result"
    }
   ],
   "source": [
    "# Categorical features modalities\n",
    "modalities_table(df, True)"
   ]
  },
  {
   "cell_type": "code",
   "execution_count": 14,
   "id": "53c2b781",
   "metadata": {
    "scrolled": false
   },
   "outputs": [
    {
     "data": {
      "image/png": "[encoded data removed]",
      "text/plain": [
       "<Figure size 432x288 with 1 Axes>"
      ]
     },
     "metadata": {
      "needs_background": "light"
     },
     "output_type": "display_data"
    },
    {
     "data": {
      "image/png": "[encoded data removed]",
      "text/plain": [
       "<Figure size 432x288 with 1 Axes>"
      ]
     },
     "metadata": {
      "needs_background": "light"
     },
     "output_type": "display_data"
    },
    {
     "data": {
      "image/png": "[encoded data removed]",
      "text/plain": [
       "<Figure size 432x288 with 1 Axes>"
      ]
     },
     "metadata": {
      "needs_background": "light"
     },
     "output_type": "display_data"
    },
    {
     "data": {
      "image/png": "[encoded data removed]",
      "text/plain": [
       "<Figure size 432x288 with 1 Axes>"
      ]
     },
     "metadata": {
      "needs_background": "light"
     },
     "output_type": "display_data"
    },
    {
     "data": {
      "image/png": "[encoded data removed]",
      "text/plain": [
       "<Figure size 432x288 with 1 Axes>"
      ]
     },
     "metadata": {
      "needs_background": "light"
     },
     "output_type": "display_data"
    },
    {
     "data": {
      "image/png": "[encoded data removed]",
      "text/plain": [
       "<Figure size 432x288 with 1 Axes>"
      ]
     },
     "metadata": {
      "needs_background": "light"
     },
     "output_type": "display_data"
    },
    {
     "data": {
      "image/png": "[encoded data removed]",
      "text/plain": [
       "<Figure size 432x288 with 1 Axes>"
      ]
     },
     "metadata": {
      "needs_background": "light"
     },
     "output_type": "display_data"
    },
    {
     "data": {
      "image/png": "[encoded data removed]",
      "text/plain": [
       "<Figure size 432x288 with 1 Axes>"
      ]
     },
     "metadata": {
      "needs_background": "light"
     },
     "output_type": "display_data"
    },
    {
     "data": {
      "image/png": "[encoded data removed]",
      "text/plain": [
       "<Figure size 432x288 with 1 Axes>"
      ]
     },
     "metadata": {
      "needs_background": "light"
     },
     "output_type": "display_data"
    }
   ],
   "source": [
    "# Distribution of categorical columns        \n",
    "plot_cat_dist_h(df)"
   ]
  },
  {
   "cell_type": "markdown",
   "id": "2345e94a",
   "metadata": {},
   "source": [
    "The largest clients are:</br>\n",
    "- **Health Serv Executive**\n",
    "- **Warenannahme K02/S0/Rampe**\n",
    "- **Llyods Pharmacy**\n",
    "\n",
    "The countries with most customers are : </br>\n",
    "- **United Kingdom**\n",
    "- **Germany**\n",
    "- **France**\n",
    "- **South Africa**</br>\n",
    "\n",
    "Most customers are **public hospitals**."
   ]
  },
  {
   "cell_type": "code",
   "execution_count": 15,
   "id": "78f4d398",
   "metadata": {},
   "outputs": [
    {
     "data": {
      "text/html": [
       "<div>\n",
       "<style scoped>\n",
       "    .dataframe tbody tr th:only-of-type {\n",
       "        vertical-align: middle;\n",
       "    }\n",
       "\n",
       "    .dataframe tbody tr th {\n",
       "        vertical-align: top;\n",
       "    }\n",
       "\n",
       "    .dataframe thead th {\n",
       "        text-align: right;\n",
       "    }\n",
       "</style>\n",
       "<table border=\"1\" class=\"dataframe\">\n",
       "  <thead>\n",
       "    <tr style=\"text-align: right;\">\n",
       "      <th></th>\n",
       "      <th>Country</th>\n",
       "    </tr>\n",
       "  </thead>\n",
       "  <tbody>\n",
       "    <tr>\n",
       "      <th>0</th>\n",
       "      <td>Aruba</td>\n",
       "    </tr>\n",
       "    <tr>\n",
       "      <th>1</th>\n",
       "      <td>Austria</td>\n",
       "    </tr>\n",
       "    <tr>\n",
       "      <th>2</th>\n",
       "      <td>Bahrain</td>\n",
       "    </tr>\n",
       "    <tr>\n",
       "      <th>3</th>\n",
       "      <td>Belgium</td>\n",
       "    </tr>\n",
       "    <tr>\n",
       "      <th>4</th>\n",
       "      <td>Botswana</td>\n",
       "    </tr>\n",
       "    <tr>\n",
       "      <th>5</th>\n",
       "      <td>Bulgaria</td>\n",
       "    </tr>\n",
       "    <tr>\n",
       "      <th>6</th>\n",
       "      <td>Congo, (Congo  Kinshasa)</td>\n",
       "    </tr>\n",
       "    <tr>\n",
       "      <th>7</th>\n",
       "      <td>Croatia</td>\n",
       "    </tr>\n",
       "    <tr>\n",
       "      <th>8</th>\n",
       "      <td>Cyprus</td>\n",
       "    </tr>\n",
       "    <tr>\n",
       "      <th>9</th>\n",
       "      <td>Czech Republic</td>\n",
       "    </tr>\n",
       "    <tr>\n",
       "      <th>10</th>\n",
       "      <td>Denmark</td>\n",
       "    </tr>\n",
       "    <tr>\n",
       "      <th>11</th>\n",
       "      <td>Egypt</td>\n",
       "    </tr>\n",
       "    <tr>\n",
       "      <th>12</th>\n",
       "      <td>Estonia</td>\n",
       "    </tr>\n",
       "    <tr>\n",
       "      <th>13</th>\n",
       "      <td>Finland</td>\n",
       "    </tr>\n",
       "    <tr>\n",
       "      <th>14</th>\n",
       "      <td>France</td>\n",
       "    </tr>\n",
       "    <tr>\n",
       "      <th>15</th>\n",
       "      <td>French Guiana</td>\n",
       "    </tr>\n",
       "    <tr>\n",
       "      <th>16</th>\n",
       "      <td>French Polynesia</td>\n",
       "    </tr>\n",
       "    <tr>\n",
       "      <th>17</th>\n",
       "      <td>Germany</td>\n",
       "    </tr>\n",
       "    <tr>\n",
       "      <th>18</th>\n",
       "      <td>Greece</td>\n",
       "    </tr>\n",
       "    <tr>\n",
       "      <th>19</th>\n",
       "      <td>Guadeloupe</td>\n",
       "    </tr>\n",
       "    <tr>\n",
       "      <th>20</th>\n",
       "      <td>Hungary</td>\n",
       "    </tr>\n",
       "    <tr>\n",
       "      <th>21</th>\n",
       "      <td>Iceland</td>\n",
       "    </tr>\n",
       "    <tr>\n",
       "      <th>22</th>\n",
       "      <td>Ireland</td>\n",
       "    </tr>\n",
       "    <tr>\n",
       "      <th>23</th>\n",
       "      <td>Israel</td>\n",
       "    </tr>\n",
       "    <tr>\n",
       "      <th>24</th>\n",
       "      <td>Italy</td>\n",
       "    </tr>\n",
       "    <tr>\n",
       "      <th>25</th>\n",
       "      <td>Jordan</td>\n",
       "    </tr>\n",
       "    <tr>\n",
       "      <th>26</th>\n",
       "      <td>Kazakhstan</td>\n",
       "    </tr>\n",
       "    <tr>\n",
       "      <th>27</th>\n",
       "      <td>Kenya</td>\n",
       "    </tr>\n",
       "    <tr>\n",
       "      <th>28</th>\n",
       "      <td>Kuwait</td>\n",
       "    </tr>\n",
       "    <tr>\n",
       "      <th>29</th>\n",
       "      <td>Latvia</td>\n",
       "    </tr>\n",
       "    <tr>\n",
       "      <th>30</th>\n",
       "      <td>Lebanon</td>\n",
       "    </tr>\n",
       "    <tr>\n",
       "      <th>31</th>\n",
       "      <td>Libya</td>\n",
       "    </tr>\n",
       "    <tr>\n",
       "      <th>32</th>\n",
       "      <td>Lithuania</td>\n",
       "    </tr>\n",
       "    <tr>\n",
       "      <th>33</th>\n",
       "      <td>Luxembourg</td>\n",
       "    </tr>\n",
       "    <tr>\n",
       "      <th>34</th>\n",
       "      <td>Malawi</td>\n",
       "    </tr>\n",
       "    <tr>\n",
       "      <th>35</th>\n",
       "      <td>Malta</td>\n",
       "    </tr>\n",
       "    <tr>\n",
       "      <th>36</th>\n",
       "      <td>Martinique</td>\n",
       "    </tr>\n",
       "    <tr>\n",
       "      <th>37</th>\n",
       "      <td>Mauritius</td>\n",
       "    </tr>\n",
       "    <tr>\n",
       "      <th>38</th>\n",
       "      <td>Mayotte</td>\n",
       "    </tr>\n",
       "    <tr>\n",
       "      <th>39</th>\n",
       "      <td>Moldova</td>\n",
       "    </tr>\n",
       "    <tr>\n",
       "      <th>40</th>\n",
       "      <td>Monaco</td>\n",
       "    </tr>\n",
       "    <tr>\n",
       "      <th>41</th>\n",
       "      <td>Namibia</td>\n",
       "    </tr>\n",
       "    <tr>\n",
       "      <th>42</th>\n",
       "      <td>Netherlands</td>\n",
       "    </tr>\n",
       "    <tr>\n",
       "      <th>43</th>\n",
       "      <td>New Caledonia</td>\n",
       "    </tr>\n",
       "    <tr>\n",
       "      <th>44</th>\n",
       "      <td>Norway</td>\n",
       "    </tr>\n",
       "    <tr>\n",
       "      <th>45</th>\n",
       "      <td>Oman</td>\n",
       "    </tr>\n",
       "    <tr>\n",
       "      <th>46</th>\n",
       "      <td>Poland</td>\n",
       "    </tr>\n",
       "    <tr>\n",
       "      <th>47</th>\n",
       "      <td>Portugal</td>\n",
       "    </tr>\n",
       "    <tr>\n",
       "      <th>48</th>\n",
       "      <td>Qatar</td>\n",
       "    </tr>\n",
       "    <tr>\n",
       "      <th>49</th>\n",
       "      <td>Reunion</td>\n",
       "    </tr>\n",
       "    <tr>\n",
       "      <th>50</th>\n",
       "      <td>Romania</td>\n",
       "    </tr>\n",
       "    <tr>\n",
       "      <th>51</th>\n",
       "      <td>Russia</td>\n",
       "    </tr>\n",
       "    <tr>\n",
       "      <th>52</th>\n",
       "      <td>Saudi Arabia</td>\n",
       "    </tr>\n",
       "    <tr>\n",
       "      <th>53</th>\n",
       "      <td>Slovakia</td>\n",
       "    </tr>\n",
       "    <tr>\n",
       "      <th>54</th>\n",
       "      <td>Slovenia</td>\n",
       "    </tr>\n",
       "    <tr>\n",
       "      <th>55</th>\n",
       "      <td>South Africa</td>\n",
       "    </tr>\n",
       "    <tr>\n",
       "      <th>56</th>\n",
       "      <td>Spain</td>\n",
       "    </tr>\n",
       "    <tr>\n",
       "      <th>57</th>\n",
       "      <td>Swaziland</td>\n",
       "    </tr>\n",
       "    <tr>\n",
       "      <th>58</th>\n",
       "      <td>Sweden</td>\n",
       "    </tr>\n",
       "    <tr>\n",
       "      <th>59</th>\n",
       "      <td>Switzerland</td>\n",
       "    </tr>\n",
       "    <tr>\n",
       "      <th>60</th>\n",
       "      <td>Togo</td>\n",
       "    </tr>\n",
       "    <tr>\n",
       "      <th>61</th>\n",
       "      <td>Turkey</td>\n",
       "    </tr>\n",
       "    <tr>\n",
       "      <th>62</th>\n",
       "      <td>Uganda</td>\n",
       "    </tr>\n",
       "    <tr>\n",
       "      <th>63</th>\n",
       "      <td>United Arab Emirates</td>\n",
       "    </tr>\n",
       "    <tr>\n",
       "      <th>64</th>\n",
       "      <td>United Kingdom</td>\n",
       "    </tr>\n",
       "    <tr>\n",
       "      <th>65</th>\n",
       "      <td>Uzbekistan</td>\n",
       "    </tr>\n",
       "  </tbody>\n",
       "</table>\n",
       "</div>"
      ],
      "text/plain": [
       "                      Country\n",
       "0                       Aruba\n",
       "1                     Austria\n",
       "2                     Bahrain\n",
       "3                     Belgium\n",
       "4                    Botswana\n",
       "5                    Bulgaria\n",
       "6   Congo, (Congo  Kinshasa)\n",
       "7                     Croatia\n",
       "8                      Cyprus\n",
       "9              Czech Republic\n",
       "10                    Denmark\n",
       "11                      Egypt\n",
       "12                    Estonia\n",
       "13                    Finland\n",
       "14                     France\n",
       "15              French Guiana\n",
       "16           French Polynesia\n",
       "17                    Germany\n",
       "18                     Greece\n",
       "19                 Guadeloupe\n",
       "20                    Hungary\n",
       "21                    Iceland\n",
       "22                    Ireland\n",
       "23                     Israel\n",
       "24                      Italy\n",
       "25                     Jordan\n",
       "26                 Kazakhstan\n",
       "27                      Kenya\n",
       "28                     Kuwait\n",
       "29                     Latvia\n",
       "30                    Lebanon\n",
       "31                      Libya\n",
       "32                  Lithuania\n",
       "33                 Luxembourg\n",
       "34                     Malawi\n",
       "35                      Malta\n",
       "36                 Martinique\n",
       "37                  Mauritius\n",
       "38                    Mayotte\n",
       "39                    Moldova\n",
       "40                     Monaco\n",
       "41                    Namibia\n",
       "42                Netherlands\n",
       "43              New Caledonia\n",
       "44                     Norway\n",
       "45                       Oman\n",
       "46                     Poland\n",
       "47                   Portugal\n",
       "48                      Qatar\n",
       "49                    Reunion\n",
       "50                    Romania\n",
       "51                     Russia\n",
       "52               Saudi Arabia\n",
       "53                   Slovakia\n",
       "54                   Slovenia\n",
       "55               South Africa\n",
       "56                      Spain\n",
       "57                  Swaziland\n",
       "58                     Sweden\n",
       "59                Switzerland\n",
       "60                       Togo\n",
       "61                     Turkey\n",
       "62                     Uganda\n",
       "63       United Arab Emirates\n",
       "64             United Kingdom\n",
       "65                 Uzbekistan"
      ]
     },
     "execution_count": 15,
     "metadata": {},
     "output_type": "execute_result"
    }
   ],
   "source": [
    "countries = sorted(list(set(df.iloc[:,2])))\n",
    "df_countries = pd.DataFrame(countries, columns=['Country'])\n",
    "df_countries"
   ]
  },
  {
   "cell_type": "code",
   "execution_count": 16,
   "id": "9fbca0d5",
   "metadata": {},
   "outputs": [
    {
     "data": {
      "text/html": [
       "<div>\n",
       "<style scoped>\n",
       "    .dataframe tbody tr th:only-of-type {\n",
       "        vertical-align: middle;\n",
       "    }\n",
       "\n",
       "    .dataframe tbody tr th {\n",
       "        vertical-align: top;\n",
       "    }\n",
       "\n",
       "    .dataframe thead th {\n",
       "        text-align: right;\n",
       "    }\n",
       "</style>\n",
       "<table border=\"1\" class=\"dataframe\">\n",
       "  <thead>\n",
       "    <tr style=\"text-align: right;\">\n",
       "      <th></th>\n",
       "      <th>Country</th>\n",
       "    </tr>\n",
       "  </thead>\n",
       "  <tbody>\n",
       "    <tr>\n",
       "      <th>6</th>\n",
       "      <td>Congo, (Congo  Kinshasa)</td>\n",
       "    </tr>\n",
       "  </tbody>\n",
       "</table>\n",
       "</div>"
      ],
      "text/plain": [
       "                     Country\n",
       "6  Congo, (Congo  Kinshasa)"
      ]
     },
     "execution_count": 16,
     "metadata": {},
     "output_type": "execute_result"
    }
   ],
   "source": [
    "# This value should be changed to \"Congo\"\n",
    "df_countries[df_countries['Country'].str.contains(r'Congo.*')]"
   ]
  },
  {
   "cell_type": "code",
   "execution_count": 17,
   "id": "cbd6827a",
   "metadata": {},
   "outputs": [
    {
     "data": {
      "text/plain": [
       "<AxesSubplot:>"
      ]
     },
     "execution_count": 17,
     "metadata": {},
     "output_type": "execute_result"
    },
    {
     "data": {
      "image/png": "[encoded data removed]",
      "text/plain": [
       "<Figure size 432x288 with 1 Axes>"
      ]
     },
     "metadata": {
      "needs_background": "light"
     },
     "output_type": "display_data"
    }
   ],
   "source": [
    "df['Cust Sold To Nbr'].plot()"
   ]
  },
  {
   "cell_type": "code",
   "execution_count": 18,
   "id": "19565ea3",
   "metadata": {
    "scrolled": false
   },
   "outputs": [
    {
     "data": {
      "text/html": [
       "<div>\n",
       "<style scoped>\n",
       "    .dataframe tbody tr th:only-of-type {\n",
       "        vertical-align: middle;\n",
       "    }\n",
       "\n",
       "    .dataframe tbody tr th {\n",
       "        vertical-align: top;\n",
       "    }\n",
       "\n",
       "    .dataframe thead th {\n",
       "        text-align: right;\n",
       "    }\n",
       "</style>\n",
       "<table border=\"1\" class=\"dataframe\">\n",
       "  <thead>\n",
       "    <tr style=\"text-align: right;\">\n",
       "      <th></th>\n",
       "      <th>Cust Sold To Nbr</th>\n",
       "      <th>Cust Sold To Name</th>\n",
       "      <th>Cust Sold To Country</th>\n",
       "      <th>C-07</th>\n",
       "      <th>C-06</th>\n",
       "      <th>C-05</th>\n",
       "      <th>C-04</th>\n",
       "      <th>C-03</th>\n",
       "      <th>C-02</th>\n",
       "      <th>C-01</th>\n",
       "    </tr>\n",
       "  </thead>\n",
       "  <tbody>\n",
       "    <tr>\n",
       "      <th>3709</th>\n",
       "      <td>28804291</td>\n",
       "      <td>TIVERTON &amp; DISTRICT HOSP</td>\n",
       "      <td>United Kingdom</td>\n",
       "      <td>TIVERTON &amp; DISTRICT HOSP</td>\n",
       "      <td>Royal Devon &amp; Exeter NHSFT</td>\n",
       "      <td>Peninsula PSA</td>\n",
       "      <td>National Buying Group</td>\n",
       "      <td>Public Hospital</td>\n",
       "      <td>Hospital</td>\n",
       "      <td>Healthcare Europe</td>\n",
       "    </tr>\n",
       "    <tr>\n",
       "      <th>3710</th>\n",
       "      <td>28804298</td>\n",
       "      <td>Ngwhaneinvestment and Projects</td>\n",
       "      <td>South Africa</td>\n",
       "      <td>Ngwhaneinvestment and Projects</td>\n",
       "      <td>Distributor C Contract</td>\n",
       "      <td>RSA - Distributor C Contract</td>\n",
       "      <td>State Group</td>\n",
       "      <td>Public Hospital</td>\n",
       "      <td>Hospital</td>\n",
       "      <td>Healthcare Europe</td>\n",
       "    </tr>\n",
       "    <tr>\n",
       "      <th>3711</th>\n",
       "      <td>80000104</td>\n",
       "      <td>ArcRoyal Ltd</td>\n",
       "      <td>Ireland</td>\n",
       "      <td>ArcRoyal Ltd</td>\n",
       "      <td>ArcRoyal Ltd</td>\n",
       "      <td>ArcRoyal Ltd</td>\n",
       "      <td>CPT Company</td>\n",
       "      <td>CPT Company</td>\n",
       "      <td>CPT Company</td>\n",
       "      <td>Healthcare Europe</td>\n",
       "    </tr>\n",
       "    <tr>\n",
       "      <th>3712</th>\n",
       "      <td>80000107</td>\n",
       "      <td>Crosstec GmbH</td>\n",
       "      <td>Austria</td>\n",
       "      <td>Crosstec GmbH</td>\n",
       "      <td>Crosstec GmbH</td>\n",
       "      <td>Crosstec GmbH</td>\n",
       "      <td>Distributor</td>\n",
       "      <td>Distributor</td>\n",
       "      <td>Distributor</td>\n",
       "      <td>Healthcare Europe</td>\n",
       "    </tr>\n",
       "    <tr>\n",
       "      <th>3713</th>\n",
       "      <td>80000110</td>\n",
       "      <td>Hospithera</td>\n",
       "      <td>Belgium</td>\n",
       "      <td>Hospithera</td>\n",
       "      <td>Hospithera</td>\n",
       "      <td>Hospithera</td>\n",
       "      <td>Distributor</td>\n",
       "      <td>Distributor</td>\n",
       "      <td>Distributor</td>\n",
       "      <td>Healthcare Europe</td>\n",
       "    </tr>\n",
       "  </tbody>\n",
       "</table>\n",
       "</div>"
      ],
      "text/plain": [
       "      Cust Sold To Nbr               Cust Sold To Name Cust Sold To Country  \\\n",
       "3709          28804291        TIVERTON & DISTRICT HOSP       United Kingdom   \n",
       "3710          28804298  Ngwhaneinvestment and Projects         South Africa   \n",
       "3711          80000104                    ArcRoyal Ltd              Ireland   \n",
       "3712          80000107                   Crosstec GmbH              Austria   \n",
       "3713          80000110                      Hospithera              Belgium   \n",
       "\n",
       "                                C-07                        C-06  \\\n",
       "3709        TIVERTON & DISTRICT HOSP  Royal Devon & Exeter NHSFT   \n",
       "3710  Ngwhaneinvestment and Projects      Distributor C Contract   \n",
       "3711                    ArcRoyal Ltd                ArcRoyal Ltd   \n",
       "3712                   Crosstec GmbH               Crosstec GmbH   \n",
       "3713                      Hospithera                  Hospithera   \n",
       "\n",
       "                              C-05                   C-04             C-03  \\\n",
       "3709                 Peninsula PSA  National Buying Group  Public Hospital   \n",
       "3710  RSA - Distributor C Contract            State Group  Public Hospital   \n",
       "3711                  ArcRoyal Ltd            CPT Company      CPT Company   \n",
       "3712                 Crosstec GmbH            Distributor      Distributor   \n",
       "3713                    Hospithera            Distributor      Distributor   \n",
       "\n",
       "             C-02               C-01  \n",
       "3709     Hospital  Healthcare Europe  \n",
       "3710     Hospital  Healthcare Europe  \n",
       "3711  CPT Company  Healthcare Europe  \n",
       "3712  Distributor  Healthcare Europe  \n",
       "3713  Distributor  Healthcare Europe  "
      ]
     },
     "execution_count": 18,
     "metadata": {},
     "output_type": "execute_result"
    }
   ],
   "source": [
    "# There is a sudden change in customer ID in 3711 row\n",
    "df.iloc[3709:3714]"
   ]
  },
  {
   "cell_type": "code",
   "execution_count": 19,
   "id": "27f3668e",
   "metadata": {
    "scrolled": true
   },
   "outputs": [
    {
     "name": "stdout",
     "output_type": "stream",
     "text": [
      "Cust Sold To Name VARCHAR(40),\n",
      "Cust Sold To Country VARCHAR(25),\n",
      "C-07 VARCHAR(35),\n",
      "C-06 VARCHAR(35),\n",
      "C-05 VARCHAR(35),\n",
      "C-04 VARCHAR(31),\n",
      "C-03 VARCHAR(16),\n",
      "C-02 VARCHAR(14),\n",
      "C-01 VARCHAR(17),\n"
     ]
    }
   ],
   "source": [
    "for c in df.select_dtypes(['object']).columns:\n",
    "    print(c + ' VARCHAR(%d),' % max(df[c].str.len()))"
   ]
  },
  {
   "cell_type": "markdown",
   "id": "7b8d5081",
   "metadata": {},
   "source": [
    "## The customer dimension should be in this schema :\n",
    "<br/>\n",
    "[ID] [int] IDENTITY(1,1) NOT NULL,<br/>\n",
    "[customer_ID] [int] NOT NULL,<br/>\n",
    "[customer_name] [varchar](40) NOT NULL,<br/>\n",
    "[C01] [varchar](17) NULL,<br/>\n",
    "[C02] [varchar](14) NULL,<br/>\n",
    "[C03] [varchar](16) NULL,<br/>\n",
    "[C04] [varchar](31) NULL,<br/>\n",
    "[C05] [varchar](35) NULL,<br/>\n",
    "[C06] [varchar](35) NULL,<br/>\n",
    "[C07] [varchar](35) NULL,<br/>\n",
    "[country_ID] [int] NOT NULL ##VARCHAR(25)"
   ]
  }
 ],
 "metadata": {
  "kernelspec": {
   "display_name": "Python 3",
   "language": "python",
   "name": "python3"
  },
  "language_info": {
   "codemirror_mode": {
    "name": "ipython",
    "version": 3
   },
   "file_extension": ".py",
   "mimetype": "text/x-python",
   "name": "python",
   "nbconvert_exporter": "python",
   "pygments_lexer": "ipython3",
   "version": "3.9.1"
  }
 },
 "nbformat": 4,
 "nbformat_minor": 5
}
